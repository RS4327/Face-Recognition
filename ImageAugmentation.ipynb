{
 "cells": [
  {
   "cell_type": "markdown",
   "id": "b8e135d2",
   "metadata": {},
   "source": [
    "# Image Augmentation by using Keras-Deep Learning "
   ]
  },
  {
   "cell_type": "code",
   "execution_count": 22,
   "id": "e9667254",
   "metadata": {},
   "outputs": [],
   "source": [
    "from keras.preprocessing import image\n",
    "#from keras.preprocessing.image import img_to_array\n",
    "from tensorflow.keras.utils import img_to_array,array_to_img\n",
    "#from keras.preprocessing.image import ImageDataGenerator,Load_img\n",
    "from tensorflow.keras.preprocessing.image import load_img"
   ]
  },
  {
   "cell_type": "code",
   "execution_count": null,
   "id": "40a91470",
   "metadata": {},
   "outputs": [],
   "source": [
    "Datagen=ImageDataGenerator(\n",
    "                            rotation_range=40,\n",
    "                            width_shift_range=0.2,\n",
    "                            height_shift_range=0.2,\n",
    "                            shear_range=0.2,\n",
    "                            zoom_range=0.2,\n",
    "                            horizontal_flip=True,\n",
    "                            fill_mode='nearest'  \n",
    "\n",
    "                            )\n",
    "img=load_img('D:\\DataScience\\DataScience\\Materials\\DSC_8806.JPG')\n",
    "x=img_to_array(img)\n",
    "x=x.reshape((1,)+x.shape)\n",
    "i=0\n",
    "for ind in Datagen.flow(x,batch_size=1,save_to_dir='D:\\DataScience\\DeepLearning\\preview',\n",
    "                     save_prefix='Ishaan',save_format='jpeg'):\n",
    "    i+=1\n",
    "\n",
    "    if i>20:\n",
    "        break\n"
   ]
  },
  {
   "cell_type": "code",
   "execution_count": null,
   "id": "dcc4d764",
   "metadata": {},
   "outputs": [],
   "source": []
  }
 ],
 "metadata": {
  "kernelspec": {
   "display_name": "Python 3 (ipykernel)",
   "language": "python",
   "name": "python3"
  },
  "language_info": {
   "codemirror_mode": {
    "name": "ipython",
    "version": 3
   },
   "file_extension": ".py",
   "mimetype": "text/x-python",
   "name": "python",
   "nbconvert_exporter": "python",
   "pygments_lexer": "ipython3",
   "version": "3.10.9"
  }
 },
 "nbformat": 4,
 "nbformat_minor": 5
}
